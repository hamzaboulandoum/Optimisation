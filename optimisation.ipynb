{
 "cells": [
  {
   "cell_type": "markdown",
   "metadata": {},
   "source": [
    "Imports"
   ]
  },
  {
   "cell_type": "code",
   "execution_count": 157,
   "metadata": {},
   "outputs": [],
   "source": [
    "import pandas as pd\n",
    "import numpy as np"
   ]
  },
  {
   "cell_type": "markdown",
   "metadata": {},
   "source": [
    "File To Import"
   ]
  },
  {
   "cell_type": "code",
   "execution_count": 158,
   "metadata": {},
   "outputs": [],
   "source": [
    "file = \"D:\\dell\\OneDrive - Université Mohammed VI Polytechnique\\STUDY\\CI1A\\Optimisation\\Projet\\Structure_Modele_Actuelle - small data set - Original.xlsx\""
   ]
  },
  {
   "cell_type": "markdown",
   "metadata": {},
   "source": [
    "Recettes\n"
   ]
  },
  {
   "cell_type": "code",
   "execution_count": 159,
   "metadata": {},
   "outputs": [],
   "source": [
    "# Recettes\n",
    "data = pd.read_excel(open(file,'rb'), sheet_name=\"Recettes\")\n",
    "\n",
    "Province = pd.DataFrame(\n",
    "    data, columns=['Province']\n",
    ").values.tolist()\n",
    "\n",
    "\n",
    "Filiere = pd.DataFrame(\n",
    "    data, columns=['Filière']\n",
    ").values.tolist()\n",
    "\n",
    "Percentages = pd.DataFrame(\n",
    "    data, columns=['CAN', 'DURAMON 26%', 'DAP', 'EM', 'MAP', 'MOP', 'TSP']\n",
    ").values.tolist()\n",
    "\n",
    "Filiere_2=[]\n",
    "Recettes = {}\n",
    "for i in range(0, len(Province)):\n",
    "    Recettes[(Province[i][0], Filiere[i][0])] = Percentages[i]\n",
    "    Filiere_2.append(Filiere[i][0])\n",
    "#---------------   \n",
    "m=['CAN', 'DURAMON 26%', 'DAP', 'EM', 'MAP', 'MOP', 'TSP']\n",
    "e = list(set(Filiere_2))\n"
   ]
  },
  {
   "cell_type": "markdown",
   "metadata": {},
   "source": [
    "Demande"
   ]
  },
  {
   "cell_type": "code",
   "execution_count": 160,
   "metadata": {},
   "outputs": [],
   "source": [
    "# Demande\n",
    "data = pd.read_excel(open(file,'rb'), sheet_name=\"Demande\")\n",
    "\n",
    "\n",
    "Province = pd.DataFrame(\n",
    "    data, columns=['Province']\n",
    ").values.tolist()\n",
    "\n",
    "\n",
    "Filiere = pd.DataFrame(\n",
    "    data, columns=['Filière']\n",
    ").values.tolist()\n",
    "\n",
    "Quantities = pd.DataFrame(\n",
    "    data, columns=['Q1']\n",
    ").values.tolist()\n",
    "\n",
    "\n",
    "Demande = {}\n",
    "for i in range(0, len(Province)):\n",
    "    Demande[(Province[i][0], Filiere[i][0])] = Quantities[i]\n",
    "\n",
    "t = [1,2,3,4]\n"
   ]
  },
  {
   "cell_type": "markdown",
   "metadata": {},
   "source": [
    "Blenders"
   ]
  },
  {
   "cell_type": "code",
   "execution_count": 161,
   "metadata": {},
   "outputs": [],
   "source": [
    "# Blenders \n",
    "df1 = pd.read_excel(open(file,'rb'), sheet_name=\"Blenders\")\n",
    "L = []\n",
    "for i in range(0, len(df1.CapacitéB)):\n",
    "    L.append([df1.CapacitéB[i], df1.CapacitéSB[i]])\n",
    "Blenders = pd.Series(L, index=df1.Zone).to_dict()\n",
    "b = df1.Zone.tolist()"
   ]
  },
  {
   "cell_type": "markdown",
   "metadata": {},
   "source": [
    "Capacite source , Transport Amont et Aval"
   ]
  },
  {
   "cell_type": "code",
   "execution_count": 162,
   "metadata": {},
   "outputs": [],
   "source": [
    "# Capacite source , Transport Amont et Avale \n",
    "Data_to_extract = []\n",
    "def change_todict(df):\n",
    "    D = dict()\n",
    "    columns = df.columns\n",
    "    raws = df[columns[0]].to_numpy()\n",
    "    ma_liste = columns.tolist()\n",
    "    ma_liste.pop(0)\n",
    "    Data_to_extract.append(ma_liste)\n",
    "    for column in columns[1:]:\n",
    "        for raw in raws :\n",
    "            D[(raw,column)]=df[df[columns[0]]==raw][column].values[0]\n",
    "    return D\n",
    "\n",
    "df = pd.read_excel(open(file,'rb'),sheet_name = \"Capacité source\")\n",
    "CapaciteSource = change_todict(df)\n",
    "df = pd.read_excel(open(file,'rb'),sheet_name = \"Cout de transport  Amont\")\n",
    "CoutTransportAmont = change_todict(df)\n",
    "df = pd.read_excel(open(file,'rb'),sheet_name = \"Cout de transport aval\")\n",
    "CoutTransportAval = change_todict(df)\n",
    "#Supplier \n",
    "s = Data_to_extract[0]"
   ]
  },
  {
   "cell_type": "markdown",
   "metadata": {},
   "source": [
    "MP Stockage\n"
   ]
  },
  {
   "cell_type": "code",
   "execution_count": 163,
   "metadata": {},
   "outputs": [],
   "source": [
    "#MP  Stockage Options \n",
    "df = pd.read_excel(file,\"MP\",index_col=\"MP\")\n",
    "a=np.transpose(df)\n",
    "MP = dict()\n",
    "for p in a:\n",
    "    MP[p]=a[p].values[0]\n",
    "    \n",
    "df = pd.read_excel(file,\"Options\",index_col=\"Options\")\n",
    "a=np.transpose(df)\n",
    "Options = dict()\n",
    "for p in a:\n",
    "    Options[p]=a[p].values[0]\n",
    "    \n",
    "df = pd.read_excel(file,\"Stockage\",index_col=\"Province \")\n",
    "a=np.transpose(df)\n",
    "Stockage = dict()\n",
    "st = []\n",
    "for p in a:\n",
    "    st.append(p)\n",
    "    Stockage[p]=a[p].values[0]\n",
    "\n",
    "# stockage produits finis \n",
    "se = st"
   ]
  },
  {
   "cell_type": "markdown",
   "metadata": {},
   "source": [
    "Affichage des Variables"
   ]
  },
  {
   "cell_type": "code",
   "execution_count": 164,
   "metadata": {},
   "outputs": [
    {
     "name": "stdout",
     "output_type": "stream",
     "text": [
      "['OCP Jorf', 'OCP SAFI', 'OCP Port Casablanca', 'OCP Port Tanger', 'OCP Port Nador']\n",
      "['Agadir Ida-Outanane', 'Benslimane', 'Casablanca', 'Chefchaouen', 'El Jadida']\n",
      "['CAN', 'DURAMON 26%', 'DAP', 'EM', 'MAP', 'MOP', 'TSP']\n",
      "['Agadir Ida-Outanane', 'Benslimane', 'Casablanca', 'Chefchaouen', 'El Jadida']\n",
      "[1, 2, 3, 4]\n",
      "['Agadir Ida-Outanane', 'Benslimane', 'Casablanca', 'Chefchaouen', 'El Jadida']\n",
      "['Fourrageres', 'Agrumes', 'Vignes', 'Oleagineuses', 'Industrielles', 'Rosacees', 'Oliviers', 'Maraichage', 'Cereales', 'Legumineuses', 'Amandiers', 'Sucrieres']\n"
     ]
    }
   ],
   "source": [
    "# Affichage des differents variables\n",
    "print(s)\n",
    "print(st)\n",
    "print(m)\n",
    "print(b)\n",
    "print(t)\n",
    "print(st)\n",
    "print(e)"
   ]
  }
 ],
 "metadata": {
  "interpreter": {
   "hash": "f76b7fa532b89843baf6d55976638f49f1abc271ccd43fd9551738b1e80287c0"
  },
  "kernelspec": {
   "display_name": "Python 3.8.8 ('SKlearn')",
   "language": "python",
   "name": "python3"
  },
  "language_info": {
   "codemirror_mode": {
    "name": "ipython",
    "version": 3
   },
   "file_extension": ".py",
   "mimetype": "text/x-python",
   "name": "python",
   "nbconvert_exporter": "python",
   "pygments_lexer": "ipython3",
   "version": "3.8.8"
  },
  "orig_nbformat": 4
 },
 "nbformat": 4,
 "nbformat_minor": 2
}
